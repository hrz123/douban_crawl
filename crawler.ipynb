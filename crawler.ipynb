{
 "cells": [
  {
   "cell_type": "code",
   "execution_count": 1,
   "metadata": {},
   "outputs": [],
   "source": [
    "import requests\n",
    "from bs4 import BeautifulSoup"
   ]
  },
  {
   "cell_type": "code",
   "execution_count": 2,
   "metadata": {
    "pycharm": {
     "name": "#%%\n"
    }
   },
   "outputs": [],
   "source": [
    "url = \"https://movie.douban.com/cinema/later/beijing/\""
   ]
  },
  {
   "cell_type": "code",
   "execution_count": 3,
   "metadata": {},
   "outputs": [],
   "source": [
    "headers = {\n",
    "                \"Cookie\": \"bid=\\\"qNzQ6uMlaCw\\\"\",\n",
    "                \"User-Agent\": \"Paw/3.1.10 (Macintosh; OS X/10.15.4) GCDHTTPRequest\"\n",
    "            }"
   ]
  },
  {
   "cell_type": "code",
   "execution_count": 4,
   "metadata": {},
   "outputs": [],
   "source": [
    "init_page = requests.get(\n",
    "            url=url,\n",
    "            headers=headers,\n",
    "        ).content"
   ]
  },
  {
   "cell_type": "code",
   "execution_count": 5,
   "metadata": {},
   "outputs": [],
   "source": [
    "init_soup = BeautifulSoup(init_page, 'lxml')"
   ]
  },
  {
   "cell_type": "code",
   "execution_count": 7,
   "metadata": {
    "pycharm": {
     "name": "#%%\n"
    }
   },
   "outputs": [],
   "source": [
    "all_movies = init_soup.find('div', id=\"showing-soon\")"
   ]
  },
  {
   "cell_type": "code",
   "execution_count": 12,
   "metadata": {},
   "outputs": [
    {
     "data": {
      "text/plain": [
       "<div class=\"tab-bd\" id=\"showing-soon\">\n",
       "<div class=\"item mod\">\n",
       "<a class=\"thumb\" href=\"https://movie.douban.com/subject/33457717/\">\n",
       "<img class=\"\" src=\"https://img3.doubanio.com/view/photo/s_ratio_poster/public/p2581346773.jpg\"/>\n",
       "</a>\n",
       "<div class=\"intro\">\n",
       "<h3>\n",
       "<a class=\"\" href=\"https://movie.douban.com/subject/33457717/\">大红包</a>\n",
       "<span class=\"icon\"></span>\n",
       "</h3>\n",
       "<ul>\n",
       "<li class=\"dt\">04月30日</li>\n",
       "<li class=\"dt\">喜剧 / 爱情</li>\n",
       "<li class=\"dt\">中国大陆</li>\n",
       "<li class=\"dt last\"><span class=\"\">3796人想看</span></li>\n",
       "<a class=\"trailer_icon\" href=\"https://movie.douban.com/trailer/257579/#content\">预告片</a>\n",
       "</ul>\n",
       "</div>\n",
       "</div>\n",
       "<div class=\"item mod odd\">\n",
       "<a class=\"thumb\" href=\"https://movie.douban.com/subject/34768418/\">\n",
       "<img class=\"\" src=\"https://img9.doubanio.com/view/photo/s_ratio_poster/public/p2564190636.jpg\"/>\n",
       "</a>\n",
       "<div class=\"intro\">\n",
       "<h3>\n",
       "<a class=\"\" href=\"https://movie.douban.com/subject/34768418/\">金禅降魔</a>\n",
       "<span class=\"icon\"></span>\n",
       "</h3>\n",
       "<ul>\n",
       "<li class=\"dt\">05月08日</li>\n",
       "<li class=\"dt\">动作 / 奇幻 / 冒险</li>\n",
       "<li class=\"dt\">中国大陆</li>\n",
       "<li class=\"dt last\"><span class=\"\">4459人想看</span></li>\n",
       "</ul>\n",
       "</div>\n",
       "</div>\n",
       "<div class=\"item mod\">\n",
       "<a class=\"thumb\" href=\"https://movie.douban.com/subject/30468745/\">\n",
       "<img class=\"\" src=\"https://img3.doubanio.com/view/photo/s_ratio_poster/public/p2586838530.jpg\"/>\n",
       "</a>\n",
       "<div class=\"intro\">\n",
       "<h3>\n",
       "<a class=\"\" href=\"https://movie.douban.com/subject/30468745/\">82号古宅</a>\n",
       "<span class=\"icon\"></span>\n",
       "</h3>\n",
       "<ul>\n",
       "<li class=\"dt\">05月15日</li>\n",
       "<li class=\"dt\">悬疑 / 惊悚</li>\n",
       "<li class=\"dt\">中国大陆</li>\n",
       "<li class=\"dt last\"><span class=\"\">744人想看</span></li>\n",
       "</ul>\n",
       "</div>\n",
       "</div>\n",
       "<div class=\"item mod odd\">\n",
       "<a class=\"thumb\" href=\"https://movie.douban.com/subject/34933879/\">\n",
       "<img class=\"\" src=\"https://img9.doubanio.com/view/photo/s_ratio_poster/public/p2579189776.jpg\"/>\n",
       "</a>\n",
       "<div class=\"intro\">\n",
       "<h3>\n",
       "<a class=\"\" href=\"https://movie.douban.com/subject/34933879/\">亲亲哒</a>\n",
       "<span class=\"icon\"></span>\n",
       "</h3>\n",
       "<ul>\n",
       "<li class=\"dt\">05月28日</li>\n",
       "<li class=\"dt\">剧情</li>\n",
       "<li class=\"dt\">中国大陆</li>\n",
       "<li class=\"dt last\"><span class=\"\">296人想看</span></li>\n",
       "</ul>\n",
       "</div>\n",
       "</div>\n",
       "<div class=\"item mod\">\n",
       "<a class=\"thumb\" href=\"https://movie.douban.com/subject/34922185/\">\n",
       "<img class=\"\" src=\"https://img3.doubanio.com/view/photo/s_ratio_poster/public/p2577837112.jpg\"/>\n",
       "</a>\n",
       "<div class=\"intro\">\n",
       "<h3>\n",
       "<a class=\"\" href=\"https://movie.douban.com/subject/34922185/\">奇妙王国之魔法奇缘</a>\n",
       "<span class=\"icon\"></span>\n",
       "</h3>\n",
       "<ul>\n",
       "<li class=\"dt\">06月01日</li>\n",
       "<li class=\"dt\">动画 / 冒险</li>\n",
       "<li class=\"dt\">中国大陆</li>\n",
       "<li class=\"dt last\"><span class=\"\">1715人想看</span></li>\n",
       "</ul>\n",
       "</div>\n",
       "</div>\n",
       "<div class=\"item mod odd\">\n",
       "<a class=\"thumb\" href=\"https://movie.douban.com/subject/30216731/\">\n",
       "<img class=\"\" src=\"https://img1.doubanio.com/view/photo/s_ratio_poster/public/p2522497098.jpg\"/>\n",
       "</a>\n",
       "<div class=\"intro\">\n",
       "<h3>\n",
       "<a class=\"\" href=\"https://movie.douban.com/subject/30216731/\">六月的秘密</a>\n",
       "<span class=\"icon\"></span>\n",
       "</h3>\n",
       "<ul>\n",
       "<li class=\"dt\">06月21日</li>\n",
       "<li class=\"dt\">剧情 / 悬疑 / 音乐</li>\n",
       "<li class=\"dt\">中国大陆</li>\n",
       "<li class=\"dt last\"><span class=\"\">3536人想看</span></li>\n",
       "</ul>\n",
       "</div>\n",
       "</div>\n",
       "<div class=\"item mod\">\n",
       "<a class=\"thumb\" href=\"https://movie.douban.com/subject/30378158/\">\n",
       "<img class=\"\" src=\"https://img1.doubanio.com/view/photo/s_ratio_poster/public/p2579398648.jpg\"/>\n",
       "</a>\n",
       "<div class=\"intro\">\n",
       "<h3>\n",
       "<a class=\"\" href=\"https://movie.douban.com/subject/30378158/\">秘密访客</a>\n",
       "<span class=\"icon\"></span>\n",
       "</h3>\n",
       "<ul>\n",
       "<li class=\"dt\">06月25日</li>\n",
       "<li class=\"dt\">剧情 / 悬疑</li>\n",
       "<li class=\"dt\">中国大陆</li>\n",
       "<li class=\"dt last\"><span class=\"\">13755人想看</span></li>\n",
       "</ul>\n",
       "</div>\n",
       "</div>\n",
       "<div class=\"item mod odd\">\n",
       "<a class=\"thumb\" href=\"https://movie.douban.com/subject/27131969/\">\n",
       "<img class=\"\" src=\"https://img3.doubanio.com/view/photo/s_ratio_poster/public/p2574800433.jpg\"/>\n",
       "</a>\n",
       "<div class=\"intro\">\n",
       "<h3>\n",
       "<a class=\"\" href=\"https://movie.douban.com/subject/27131969/\">无名狂</a>\n",
       "<span class=\"icon\"></span>\n",
       "</h3>\n",
       "<ul>\n",
       "<li class=\"dt\">06月25日</li>\n",
       "<li class=\"dt\">动作 / 悬疑 / 武侠</li>\n",
       "<li class=\"dt\">中国大陆</li>\n",
       "<li class=\"dt last\"><span class=\"\">2323人想看</span></li>\n",
       "<a class=\"trailer_icon\" href=\"https://movie.douban.com/trailer/255828/#content\">预告片</a>\n",
       "</ul>\n",
       "</div>\n",
       "</div>\n",
       "<div class=\"item mod\">\n",
       "<a class=\"thumb\" href=\"https://movie.douban.com/subject/26667275/\">\n",
       "<img class=\"\" src=\"https://img1.doubanio.com/view/photo/s_ratio_poster/public/p2595969179.jpg\"/>\n",
       "</a>\n",
       "<div class=\"intro\">\n",
       "<h3>\n",
       "<a class=\"\" href=\"https://movie.douban.com/subject/26667275/\">我想静静</a>\n",
       "<span class=\"icon\"></span>\n",
       "</h3>\n",
       "<ul>\n",
       "<li class=\"dt\">08月07日</li>\n",
       "<li class=\"dt\">喜剧</li>\n",
       "<li class=\"dt\">中国大陆</li>\n",
       "<li class=\"dt last\"><span class=\"\">149人想看</span></li>\n",
       "</ul>\n",
       "</div>\n",
       "</div>\n",
       "<div class=\"item mod odd\">\n",
       "<a class=\"thumb\" href=\"https://movie.douban.com/subject/26826330/\">\n",
       "<img class=\"\" src=\"https://img9.doubanio.com/view/photo/s_ratio_poster/public/p2580314674.jpg\"/>\n",
       "</a>\n",
       "<div class=\"intro\">\n",
       "<h3>\n",
       "<a class=\"\" href=\"https://movie.douban.com/subject/26826330/\">刺杀小说家</a>\n",
       "<span class=\"icon\"></span>\n",
       "</h3>\n",
       "<ul>\n",
       "<li class=\"dt\">02月12日</li>\n",
       "<li class=\"dt\">剧情 / 动作 / 奇幻</li>\n",
       "<li class=\"dt\">中国大陆</li>\n",
       "<li class=\"dt last\"><span class=\"\">19117人想看</span></li>\n",
       "<a class=\"trailer_icon\" href=\"https://movie.douban.com/trailer/257595/#content\">预告片</a>\n",
       "</ul>\n",
       "</div>\n",
       "</div>\n",
       "<p><a href=\"https://movie.douban.com/coming\">&gt; 查看全部即将上映的影片</a></p>\n",
       "</div>"
      ]
     },
     "execution_count": 12,
     "metadata": {},
     "output_type": "execute_result"
    }
   ],
   "source": [
    "all_movies"
   ]
  },
  {
   "cell_type": "code",
   "execution_count": null,
   "outputs": [],
   "source": [
    "one_movie = all_movies.find_all('div', class_=\"item\")[0]"
   ],
   "metadata": {
    "collapsed": false,
    "pycharm": {
     "name": "#%%\n"
    }
   }
  },
  {
   "cell_type": "code",
   "execution_count": null,
   "outputs": [],
   "source": [
    "one_movie.find_all('a')"
   ],
   "metadata": {
    "collapsed": false,
    "pycharm": {
     "name": "#%%\n"
    }
   }
  },
  {
   "cell_type": "code",
   "execution_count": null,
   "outputs": [],
   "source": [
    "one_movie.find_all('a')[1]['href']"
   ],
   "metadata": {
    "collapsed": false,
    "pycharm": {
     "name": "#%%\n"
    }
   }
  },
  {
   "cell_type": "code",
   "execution_count": null,
   "outputs": [],
   "source": [
    "one_movie.find_all('li')[0].text"
   ],
   "metadata": {
    "collapsed": false,
    "pycharm": {
     "name": "#%%\n"
    }
   }
  },
  {
   "cell_type": "code",
   "execution_count": null,
   "outputs": [],
   "source": [
    "for each_movie in all_movies.find_all('div', class_=\"item\"):\n",
    "    all_a_tag = each_movie.find_all('a')\n",
    "    all_li_tag = each_movie.find_all('li')\n",
    "    \n",
    "    movie_name = all_a_tag[1].text\n",
    "    url_to_fetch = all_a_tag[1]['href']\n",
    "    movie_date = all_li_tag[0].text\n",
    "    \n",
    "    response_item = requests.get(url_to_fetch, headers=headers).content\n",
    "    soup_item = BeautifulSoup(response_item, 'lxml')\n",
    "    img_tag = soup_item.find('img')\n",
    "    \n",
    "    print('{} {} {}'.format(movie_name, movie_date, img_tag['src']))"
   ],
   "metadata": {
    "collapsed": false,
    "pycharm": {
     "name": "#%%\n"
    }
   }
  },
  {
   "cell_type": "code",
   "execution_count": null,
   "outputs": [],
   "source": [],
   "metadata": {
    "collapsed": false,
    "pycharm": {
     "name": "#%%\n"
    }
   }
  },
  {
   "cell_type": "code",
   "execution_count": 13,
   "metadata": {},
   "outputs": [],
   "source": []
  },
  {
   "cell_type": "code",
   "execution_count": 18,
   "metadata": {},
   "outputs": [
    {
     "data": {
      "text/plain": [
       "[<a class=\"thumb\" href=\"https://movie.douban.com/subject/33457717/\">\n",
       " <img class=\"\" src=\"https://img3.doubanio.com/view/photo/s_ratio_poster/public/p2581346773.jpg\"/>\n",
       " </a>,\n",
       " <a class=\"\" href=\"https://movie.douban.com/subject/33457717/\">大红包</a>,\n",
       " <a class=\"trailer_icon\" href=\"https://movie.douban.com/trailer/257579/#content\">预告片</a>]"
      ]
     },
     "execution_count": 18,
     "metadata": {},
     "output_type": "execute_result"
    }
   ],
   "source": [
    "one_movie.find_all('a')"
   ]
  },
  {
   "cell_type": "code",
   "execution_count": 20,
   "metadata": {},
   "outputs": [
    {
     "data": {
      "text/plain": [
       "'https://movie.douban.com/subject/33457717/'"
      ]
     },
     "execution_count": 20,
     "metadata": {},
     "output_type": "execute_result"
    }
   ],
   "source": [
    "one_movie.find_all('a')[1]['href']"
   ]
  },
  {
   "cell_type": "code",
   "execution_count": 17,
   "metadata": {},
   "outputs": [
    {
     "data": {
      "text/plain": [
       "'04月30日'"
      ]
     },
     "execution_count": 17,
     "metadata": {},
     "output_type": "execute_result"
    }
   ],
   "source": [
    "one_movie.find_all('li')[0].text"
   ]
  },
  {
   "cell_type": "code",
   "execution_count": 25,
   "metadata": {},
   "outputs": [
    {
     "name": "stdout",
     "output_type": "stream",
     "text": [
      "大红包 04月30日 https://img3.doubanio.com/view/photo/s_ratio_poster/public/p2581346773.jpg\n",
      "金禅降魔 05月08日 https://img9.doubanio.com/view/photo/s_ratio_poster/public/p2564190636.jpg\n",
      "82号古宅 05月15日 https://img3.doubanio.com/view/photo/s_ratio_poster/public/p2586838530.jpg\n",
      "亲亲哒 05月28日 https://img9.doubanio.com/view/photo/s_ratio_poster/public/p2579189776.jpg\n",
      "奇妙王国之魔法奇缘 06月01日 https://img3.doubanio.com/view/photo/s_ratio_poster/public/p2577837112.jpg\n",
      "六月的秘密 06月21日 https://img1.doubanio.com/view/photo/s_ratio_poster/public/p2522497098.jpg\n",
      "秘密访客 06月25日 https://img1.doubanio.com/view/photo/s_ratio_poster/public/p2579398648.jpg\n",
      "无名狂 06月25日 https://img3.doubanio.com/view/photo/s_ratio_poster/public/p2574800433.jpg\n",
      "我想静静 08月07日 https://img1.doubanio.com/view/photo/s_ratio_poster/public/p2595969179.jpg\n",
      "刺杀小说家 02月12日 https://img9.doubanio.com/view/photo/s_ratio_poster/public/p2580314674.jpg\n"
     ]
    }
   ],
   "source": [
    "for each_movie in all_movies.find_all('div', class_=\"item\"):\n",
    "    all_a_tag = each_movie.find_all('a')\n",
    "    all_li_tag = each_movie.find_all('li')\n",
    "    \n",
    "    movie_name = all_a_tag[1].text\n",
    "    url_to_fetch = all_a_tag[1]['href']\n",
    "    movie_date = all_li_tag[0].text\n",
    "    \n",
    "    response_item = requests.get(url_to_fetch, headers=headers).content\n",
    "    soup_item = BeautifulSoup(response_item, 'lxml')\n",
    "    img_tag = soup_item.find('img')\n",
    "    \n",
    "    print('{} {} {}'.format(movie_name, movie_date, img_tag['src']))"
   ]
  },
  {
   "cell_type": "code",
   "execution_count": null,
   "metadata": {},
   "outputs": [],
   "source": []
  }
 ],
 "metadata": {
  "kernelspec": {
   "display_name": "Python 3",
   "language": "python",
   "name": "python3"
  },
  "language_info": {
   "codemirror_mode": {
    "name": "ipython",
    "version": 3
   },
   "file_extension": ".py",
   "mimetype": "text/x-python",
   "name": "python",
   "nbconvert_exporter": "python",
   "pygments_lexer": "ipython3",
   "version": "3.7.6"
  }
 },
 "nbformat": 4,
 "nbformat_minor": 1
}